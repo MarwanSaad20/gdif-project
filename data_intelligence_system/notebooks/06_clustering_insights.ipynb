{
 "cells": [
  {
   "cell_type": "code",
   "execution_count": 6,
   "id": "initial_id",
   "metadata": {
    "collapsed": true
   },
   "outputs": [
    {
     "name": "stdout",
     "output_type": "stream",
     "text": [
      "🔍 تحميل البيانات من: c:\\Users\\PC\\PycharmProjects\\PythonProject10\\data_intelligence_system\\data\\processed\\clean_data.csv\n",
      "🎯 تم التعرف على عمود الهدف: species\n"
     ]
    },
    {
     "ename": "SystemExit",
     "evalue": "🚫 النموذج المدرب غير موجود في المسار: c:\\Users\\PC\\PycharmProjects\\PythonProject10\\data_intelligence_system\\ml_models\\trained_model.pkl",
     "output_type": "error",
     "traceback": [
      "An exception has occurred, use %tb to see the full traceback.\n",
      "\u001b[31mSystemExit\u001b[39m\u001b[31m:\u001b[39m 🚫 النموذج المدرب غير موجود في المسار: c:\\Users\\PC\\PycharmProjects\\PythonProject10\\data_intelligence_system\\ml_models\\trained_model.pkl\n"
     ]
    },
    {
     "name": "stderr",
     "output_type": "stream",
     "text": [
      "c:\\Users\\PC\\PycharmProjects\\PythonProject10\\.venv\\Lib\\site-packages\\IPython\\core\\interactiveshell.py:3707: UserWarning: To exit: use 'exit', 'quit', or Ctrl-D.\n",
      "  warn(\"To exit: use 'exit', 'quit', or Ctrl-D.\", stacklevel=1)\n"
     ]
    }
   ],
   "source": [
    "import os\n",
    "import sys\n",
    "import pandas as pd\n",
    "import numpy as np\n",
    "import matplotlib.pyplot as plt\n",
    "import seaborn as sns\n",
    "from sklearn.metrics import (\n",
    "    classification_report,\n",
    "    confusion_matrix,\n",
    "    accuracy_score,\n",
    "    mean_squared_error,\n",
    "    r2_score,\n",
    ")\n",
    "import joblib\n",
    "\n",
    "# ======= ضبط المسارات النسبية بناءً على مكان السكربت =======\n",
    "try:\n",
    "    project_root = os.path.abspath(os.path.join(os.path.dirname(__file__), \"..\", \"..\"))\n",
    "except NameError:\n",
    "    project_root = os.path.abspath(os.path.join(os.getcwd(), \"..\", \"..\"))\n",
    "\n",
    "DATA_PATH = os.path.join(project_root, \"data_intelligence_system\", \"data\", \"processed\", \"clean_data.csv\")\n",
    "MODEL_PATH = os.path.join(project_root, \"data_intelligence_system\", \"ml_models\", \"trained_model.pkl\")\n",
    "EXPORT_DIR = os.path.join(project_root, \"data_intelligence_system\", \"reports\", \"output\")\n",
    "EXPORT_PATH = os.path.join(EXPORT_DIR, \"predictions_output.csv\")\n",
    "\n",
    "print(f\"🔍 تحميل البيانات من: {DATA_PATH}\")\n",
    "df = pd.read_csv(DATA_PATH)\n",
    "\n",
    "# ======= تحديد عمود الهدف =======\n",
    "target_candidates = ['target', 'label', 'y', 'species', 'is_fragrant']\n",
    "\n",
    "target = None\n",
    "for col in df.columns:\n",
    "    if col.lower() in target_candidates:\n",
    "        target = col\n",
    "        print(f\"🎯 تم التعرف على عمود الهدف: {target}\")\n",
    "        break\n",
    "\n",
    "if target is None:\n",
    "    print(\"⚠️ لم يتم العثور على عمود هدف واضح في البيانات. الأعمدة المتاحة:\")\n",
    "    print(\", \".join(df.columns))\n",
    "    sys.exit(\"🚨 الرجاء تحديد عمود الهدف في البيانات.\")\n",
    "\n",
    "# ======= فصل السمات الرقمية والهدف =======\n",
    "X = df.drop(columns=[target]).select_dtypes(include=[np.number]).fillna(0)\n",
    "y = df[target]\n",
    "\n",
    "if X.shape[1] == 0:\n",
    "    sys.exit(\"🚫 لا توجد سمات رقمية مناسبة للنمذجة بعد إزالة عمود الهدف.\")\n",
    "\n",
    "# ======= التحقق من وجود النموذج =======\n",
    "if not os.path.exists(MODEL_PATH):\n",
    "    sys.exit(f\"🚫 النموذج المدرب غير موجود في المسار: {MODEL_PATH}\")\n",
    "\n",
    "# ======= تحميل النموذج =======\n",
    "model = joblib.load(MODEL_PATH)\n",
    "print(f\"✅ تم تحميل النموذج المدرب بنجاح من: {MODEL_PATH}\")\n",
    "\n",
    "# ======= التنبؤ =======\n",
    "y_pred = model.predict(X)\n",
    "\n",
    "# ======= تحليل النتائج =======\n",
    "is_classification = y.nunique() <= 10\n",
    "\n",
    "if is_classification:\n",
    "    acc = accuracy_score(y, y_pred)\n",
    "    print(f\"🎯 الدقة الإجمالية: {acc:.4f}\\n\")\n",
    "    print(\"📌 تقرير التصنيف:\")\n",
    "    print(classification_report(y, y_pred))\n",
    "\n",
    "    cm = confusion_matrix(y, y_pred)\n",
    "    plt.figure(figsize=(8, 6))\n",
    "    sns.heatmap(cm, annot=True, fmt='d', cmap='Blues')\n",
    "    plt.title(\"مصفوفة الالتباس النهائية\")\n",
    "    plt.xlabel('Predicted')\n",
    "    plt.ylabel('Actual')\n",
    "    plt.tight_layout()\n",
    "    plt.show()\n",
    "\n",
    "else:\n",
    "    rmse = mean_squared_error(y, y_pred, squared=False)\n",
    "    r2 = r2_score(y, y_pred)\n",
    "    print(f\"📉 RMSE: {rmse:.4f}\\n📈 R²: {r2:.4f}\")\n",
    "\n",
    "    plt.figure(figsize=(8, 6))\n",
    "    sns.scatterplot(x=y, y=y_pred, alpha=0.6, color='green')\n",
    "    plt.title(\"Actual vs Predicted\")\n",
    "    plt.xlabel(\"Actual\")\n",
    "    plt.ylabel(\"Predicted\")\n",
    "    plt.tight_layout()\n",
    "    plt.show()\n",
    "\n",
    "# ======= حفظ التنبؤات =======\n",
    "os.makedirs(EXPORT_DIR, exist_ok=True)\n",
    "\n",
    "results_df = pd.DataFrame({\n",
    "    'Actual': y,\n",
    "    'Predicted': y_pred\n",
    "})\n",
    "\n",
    "results_df.to_csv(EXPORT_PATH, index=False)\n",
    "print(f\"✅ تم حفظ النتائج النهائية في: {EXPORT_PATH}\")\n"
   ]
  }
 ],
 "metadata": {
  "kernelspec": {
   "display_name": ".venv",
   "language": "python",
   "name": "python3"
  },
  "language_info": {
   "codemirror_mode": {
    "name": "ipython",
    "version": 3
   },
   "file_extension": ".py",
   "mimetype": "text/x-python",
   "name": "python",
   "nbconvert_exporter": "python",
   "pygments_lexer": "ipython3",
   "version": "3.13.1"
  }
 },
 "nbformat": 4,
 "nbformat_minor": 5
}
